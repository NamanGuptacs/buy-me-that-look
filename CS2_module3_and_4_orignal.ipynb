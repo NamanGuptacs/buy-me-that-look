{
  "nbformat": 4,
  "nbformat_minor": 0,
  "metadata": {
    "colab": {
      "name": "CS2_module3_and_4.ipynb",
      "provenance": [],
      "collapsed_sections": [],
      "toc_visible": true,
      "machine_shape": "hm"
    },
    "kernelspec": {
      "name": "python3",
      "display_name": "Python 3"
    },
    "accelerator": "GPU",
    "widgets": {
      "application/vnd.jupyter.widget-state+json": {
        "ac1629a973f84b369c82111a3e1aa3c0": {
          "model_module": "@jupyter-widgets/controls",
          "model_name": "HBoxModel",
          "state": {
            "_view_name": "HBoxView",
            "_dom_classes": [],
            "_model_name": "HBoxModel",
            "_view_module": "@jupyter-widgets/controls",
            "_model_module_version": "1.5.0",
            "_view_count": null,
            "_view_module_version": "1.5.0",
            "box_style": "",
            "layout": "IPY_MODEL_85045a45cca84dca8a56e7f3aef63d3d",
            "_model_module": "@jupyter-widgets/controls",
            "children": [
              "IPY_MODEL_f16d41a962784bd891c8ea41ee2f4ca6",
              "IPY_MODEL_ab36bc007ead47eeaf371664fa2a6fc0"
            ]
          }
        },
        "85045a45cca84dca8a56e7f3aef63d3d": {
          "model_module": "@jupyter-widgets/base",
          "model_name": "LayoutModel",
          "state": {
            "_view_name": "LayoutView",
            "grid_template_rows": null,
            "right": null,
            "justify_content": null,
            "_view_module": "@jupyter-widgets/base",
            "overflow": null,
            "_model_module_version": "1.2.0",
            "_view_count": null,
            "flex_flow": null,
            "width": null,
            "min_width": null,
            "border": null,
            "align_items": null,
            "bottom": null,
            "_model_module": "@jupyter-widgets/base",
            "top": null,
            "grid_column": null,
            "overflow_y": null,
            "overflow_x": null,
            "grid_auto_flow": null,
            "grid_area": null,
            "grid_template_columns": null,
            "flex": null,
            "_model_name": "LayoutModel",
            "justify_items": null,
            "grid_row": null,
            "max_height": null,
            "align_content": null,
            "visibility": null,
            "align_self": null,
            "height": null,
            "min_height": null,
            "padding": null,
            "grid_auto_rows": null,
            "grid_gap": null,
            "max_width": null,
            "order": null,
            "_view_module_version": "1.2.0",
            "grid_template_areas": null,
            "object_position": null,
            "object_fit": null,
            "grid_auto_columns": null,
            "margin": null,
            "display": null,
            "left": null
          }
        },
        "f16d41a962784bd891c8ea41ee2f4ca6": {
          "model_module": "@jupyter-widgets/controls",
          "model_name": "FloatProgressModel",
          "state": {
            "_view_name": "ProgressView",
            "style": "IPY_MODEL_c90a79c80d47418aa03985675b497860",
            "_dom_classes": [],
            "description": "",
            "_model_name": "FloatProgressModel",
            "bar_style": "success",
            "max": 1,
            "_view_module": "@jupyter-widgets/controls",
            "_model_module_version": "1.5.0",
            "value": 1,
            "_view_count": null,
            "_view_module_version": "1.5.0",
            "orientation": "horizontal",
            "min": 0,
            "description_tooltip": null,
            "_model_module": "@jupyter-widgets/controls",
            "layout": "IPY_MODEL_77c1ac8bbbb24e00966ce7c88fa3585c"
          }
        },
        "ab36bc007ead47eeaf371664fa2a6fc0": {
          "model_module": "@jupyter-widgets/controls",
          "model_name": "HTMLModel",
          "state": {
            "_view_name": "HTMLView",
            "style": "IPY_MODEL_92fe0f63dd2c42b1baa0a9ace9e1983c",
            "_dom_classes": [],
            "description": "",
            "_model_name": "HTMLModel",
            "placeholder": "​",
            "_view_module": "@jupyter-widgets/controls",
            "_model_module_version": "1.5.0",
            "value": " 9/? [03:54&lt;00:00, 26.04s/it]",
            "_view_count": null,
            "_view_module_version": "1.5.0",
            "description_tooltip": null,
            "_model_module": "@jupyter-widgets/controls",
            "layout": "IPY_MODEL_99b468a616754a97bdc37d4992333fbf"
          }
        },
        "c90a79c80d47418aa03985675b497860": {
          "model_module": "@jupyter-widgets/controls",
          "model_name": "ProgressStyleModel",
          "state": {
            "_view_name": "StyleView",
            "_model_name": "ProgressStyleModel",
            "description_width": "initial",
            "_view_module": "@jupyter-widgets/base",
            "_model_module_version": "1.5.0",
            "_view_count": null,
            "_view_module_version": "1.2.0",
            "bar_color": null,
            "_model_module": "@jupyter-widgets/controls"
          }
        },
        "77c1ac8bbbb24e00966ce7c88fa3585c": {
          "model_module": "@jupyter-widgets/base",
          "model_name": "LayoutModel",
          "state": {
            "_view_name": "LayoutView",
            "grid_template_rows": null,
            "right": null,
            "justify_content": null,
            "_view_module": "@jupyter-widgets/base",
            "overflow": null,
            "_model_module_version": "1.2.0",
            "_view_count": null,
            "flex_flow": null,
            "width": null,
            "min_width": null,
            "border": null,
            "align_items": null,
            "bottom": null,
            "_model_module": "@jupyter-widgets/base",
            "top": null,
            "grid_column": null,
            "overflow_y": null,
            "overflow_x": null,
            "grid_auto_flow": null,
            "grid_area": null,
            "grid_template_columns": null,
            "flex": null,
            "_model_name": "LayoutModel",
            "justify_items": null,
            "grid_row": null,
            "max_height": null,
            "align_content": null,
            "visibility": null,
            "align_self": null,
            "height": null,
            "min_height": null,
            "padding": null,
            "grid_auto_rows": null,
            "grid_gap": null,
            "max_width": null,
            "order": null,
            "_view_module_version": "1.2.0",
            "grid_template_areas": null,
            "object_position": null,
            "object_fit": null,
            "grid_auto_columns": null,
            "margin": null,
            "display": null,
            "left": null
          }
        },
        "92fe0f63dd2c42b1baa0a9ace9e1983c": {
          "model_module": "@jupyter-widgets/controls",
          "model_name": "DescriptionStyleModel",
          "state": {
            "_view_name": "StyleView",
            "_model_name": "DescriptionStyleModel",
            "description_width": "",
            "_view_module": "@jupyter-widgets/base",
            "_model_module_version": "1.5.0",
            "_view_count": null,
            "_view_module_version": "1.2.0",
            "_model_module": "@jupyter-widgets/controls"
          }
        },
        "99b468a616754a97bdc37d4992333fbf": {
          "model_module": "@jupyter-widgets/base",
          "model_name": "LayoutModel",
          "state": {
            "_view_name": "LayoutView",
            "grid_template_rows": null,
            "right": null,
            "justify_content": null,
            "_view_module": "@jupyter-widgets/base",
            "overflow": null,
            "_model_module_version": "1.2.0",
            "_view_count": null,
            "flex_flow": null,
            "width": null,
            "min_width": null,
            "border": null,
            "align_items": null,
            "bottom": null,
            "_model_module": "@jupyter-widgets/base",
            "top": null,
            "grid_column": null,
            "overflow_y": null,
            "overflow_x": null,
            "grid_auto_flow": null,
            "grid_area": null,
            "grid_template_columns": null,
            "flex": null,
            "_model_name": "LayoutModel",
            "justify_items": null,
            "grid_row": null,
            "max_height": null,
            "align_content": null,
            "visibility": null,
            "align_self": null,
            "height": null,
            "min_height": null,
            "padding": null,
            "grid_auto_rows": null,
            "grid_gap": null,
            "max_width": null,
            "order": null,
            "_view_module_version": "1.2.0",
            "grid_template_areas": null,
            "object_position": null,
            "object_fit": null,
            "grid_auto_columns": null,
            "margin": null,
            "display": null,
            "left": null
          }
        },
        "a82e5486ab1c4d97bcaf8f7961b5f2cf": {
          "model_module": "@jupyter-widgets/controls",
          "model_name": "HBoxModel",
          "state": {
            "_view_name": "HBoxView",
            "_dom_classes": [],
            "_model_name": "HBoxModel",
            "_view_module": "@jupyter-widgets/controls",
            "_model_module_version": "1.5.0",
            "_view_count": null,
            "_view_module_version": "1.5.0",
            "box_style": "",
            "layout": "IPY_MODEL_b82cc8a71b5346dd935ea70931c48265",
            "_model_module": "@jupyter-widgets/controls",
            "children": [
              "IPY_MODEL_ad7e119a312f4c90a8bd45855fb9e7bc",
              "IPY_MODEL_6da79c84cd98498bbc22170bc7100494"
            ]
          }
        },
        "b82cc8a71b5346dd935ea70931c48265": {
          "model_module": "@jupyter-widgets/base",
          "model_name": "LayoutModel",
          "state": {
            "_view_name": "LayoutView",
            "grid_template_rows": null,
            "right": null,
            "justify_content": null,
            "_view_module": "@jupyter-widgets/base",
            "overflow": null,
            "_model_module_version": "1.2.0",
            "_view_count": null,
            "flex_flow": null,
            "width": null,
            "min_width": null,
            "border": null,
            "align_items": null,
            "bottom": null,
            "_model_module": "@jupyter-widgets/base",
            "top": null,
            "grid_column": null,
            "overflow_y": null,
            "overflow_x": null,
            "grid_auto_flow": null,
            "grid_area": null,
            "grid_template_columns": null,
            "flex": null,
            "_model_name": "LayoutModel",
            "justify_items": null,
            "grid_row": null,
            "max_height": null,
            "align_content": null,
            "visibility": null,
            "align_self": null,
            "height": null,
            "min_height": null,
            "padding": null,
            "grid_auto_rows": null,
            "grid_gap": null,
            "max_width": null,
            "order": null,
            "_view_module_version": "1.2.0",
            "grid_template_areas": null,
            "object_position": null,
            "object_fit": null,
            "grid_auto_columns": null,
            "margin": null,
            "display": null,
            "left": null
          }
        },
        "ad7e119a312f4c90a8bd45855fb9e7bc": {
          "model_module": "@jupyter-widgets/controls",
          "model_name": "FloatProgressModel",
          "state": {
            "_view_name": "ProgressView",
            "style": "IPY_MODEL_5945ba7b9b0d4c7f865f0afee9ba650e",
            "_dom_classes": [],
            "description": "",
            "_model_name": "FloatProgressModel",
            "bar_style": "success",
            "max": 1,
            "_view_module": "@jupyter-widgets/controls",
            "_model_module_version": "1.5.0",
            "value": 1,
            "_view_count": null,
            "_view_module_version": "1.5.0",
            "orientation": "horizontal",
            "min": 0,
            "description_tooltip": null,
            "_model_module": "@jupyter-widgets/controls",
            "layout": "IPY_MODEL_e62e9d9c80d243c5857e72eee3c57e7a"
          }
        },
        "6da79c84cd98498bbc22170bc7100494": {
          "model_module": "@jupyter-widgets/controls",
          "model_name": "HTMLModel",
          "state": {
            "_view_name": "HTMLView",
            "style": "IPY_MODEL_0b34aec7378e454689b4da27e42ffdea",
            "_dom_classes": [],
            "description": "",
            "_model_name": "HTMLModel",
            "placeholder": "​",
            "_view_module": "@jupyter-widgets/controls",
            "_model_module_version": "1.5.0",
            "value": " 75298/? [2:03:42&lt;00:00, 10.14it/s]",
            "_view_count": null,
            "_view_module_version": "1.5.0",
            "description_tooltip": null,
            "_model_module": "@jupyter-widgets/controls",
            "layout": "IPY_MODEL_977768d58324490e9e501db8474c772d"
          }
        },
        "5945ba7b9b0d4c7f865f0afee9ba650e": {
          "model_module": "@jupyter-widgets/controls",
          "model_name": "ProgressStyleModel",
          "state": {
            "_view_name": "StyleView",
            "_model_name": "ProgressStyleModel",
            "description_width": "initial",
            "_view_module": "@jupyter-widgets/base",
            "_model_module_version": "1.5.0",
            "_view_count": null,
            "_view_module_version": "1.2.0",
            "bar_color": null,
            "_model_module": "@jupyter-widgets/controls"
          }
        },
        "e62e9d9c80d243c5857e72eee3c57e7a": {
          "model_module": "@jupyter-widgets/base",
          "model_name": "LayoutModel",
          "state": {
            "_view_name": "LayoutView",
            "grid_template_rows": null,
            "right": null,
            "justify_content": null,
            "_view_module": "@jupyter-widgets/base",
            "overflow": null,
            "_model_module_version": "1.2.0",
            "_view_count": null,
            "flex_flow": null,
            "width": null,
            "min_width": null,
            "border": null,
            "align_items": null,
            "bottom": null,
            "_model_module": "@jupyter-widgets/base",
            "top": null,
            "grid_column": null,
            "overflow_y": null,
            "overflow_x": null,
            "grid_auto_flow": null,
            "grid_area": null,
            "grid_template_columns": null,
            "flex": null,
            "_model_name": "LayoutModel",
            "justify_items": null,
            "grid_row": null,
            "max_height": null,
            "align_content": null,
            "visibility": null,
            "align_self": null,
            "height": null,
            "min_height": null,
            "padding": null,
            "grid_auto_rows": null,
            "grid_gap": null,
            "max_width": null,
            "order": null,
            "_view_module_version": "1.2.0",
            "grid_template_areas": null,
            "object_position": null,
            "object_fit": null,
            "grid_auto_columns": null,
            "margin": null,
            "display": null,
            "left": null
          }
        },
        "0b34aec7378e454689b4da27e42ffdea": {
          "model_module": "@jupyter-widgets/controls",
          "model_name": "DescriptionStyleModel",
          "state": {
            "_view_name": "StyleView",
            "_model_name": "DescriptionStyleModel",
            "description_width": "",
            "_view_module": "@jupyter-widgets/base",
            "_model_module_version": "1.5.0",
            "_view_count": null,
            "_view_module_version": "1.2.0",
            "_model_module": "@jupyter-widgets/controls"
          }
        },
        "977768d58324490e9e501db8474c772d": {
          "model_module": "@jupyter-widgets/base",
          "model_name": "LayoutModel",
          "state": {
            "_view_name": "LayoutView",
            "grid_template_rows": null,
            "right": null,
            "justify_content": null,
            "_view_module": "@jupyter-widgets/base",
            "overflow": null,
            "_model_module_version": "1.2.0",
            "_view_count": null,
            "flex_flow": null,
            "width": null,
            "min_width": null,
            "border": null,
            "align_items": null,
            "bottom": null,
            "_model_module": "@jupyter-widgets/base",
            "top": null,
            "grid_column": null,
            "overflow_y": null,
            "overflow_x": null,
            "grid_auto_flow": null,
            "grid_area": null,
            "grid_template_columns": null,
            "flex": null,
            "_model_name": "LayoutModel",
            "justify_items": null,
            "grid_row": null,
            "max_height": null,
            "align_content": null,
            "visibility": null,
            "align_self": null,
            "height": null,
            "min_height": null,
            "padding": null,
            "grid_auto_rows": null,
            "grid_gap": null,
            "max_width": null,
            "order": null,
            "_view_module_version": "1.2.0",
            "grid_template_areas": null,
            "object_position": null,
            "object_fit": null,
            "grid_auto_columns": null,
            "margin": null,
            "display": null,
            "left": null
          }
        }
      }
    }
  },
  "cells": [
    {
      "cell_type": "markdown",
      "metadata": {
        "id": "d-XcY3Dlgnfh"
      },
      "source": [
        "<h2>Module 3 (Generate embeddings of images)</h2\n",
        "\n",
        "this module will use some pre-trained and get embeddings from their last layer"
      ]
    },
    {
      "cell_type": "code",
      "metadata": {
        "id": "pXcaZ8DqgtlM"
      },
      "source": [
        "import tensorflow as tf\n",
        "import datetime as dt\n",
        "import cv2\n",
        "import numpy as np\n",
        "from tqdm.notebook import tqdm\n",
        "import pandas as pd\n",
        "import json\n",
        "import os"
      ],
      "execution_count": 4,
      "outputs": []
    },
    {
      "cell_type": "code",
      "metadata": {
        "id": "5Z5a3rDjhHhl",
        "colab": {
          "base_uri": "https://localhost:8080/"
        },
        "outputId": "86bc2a0a-3cdc-41ae-8794-58c71890a8af"
      },
      "source": [
        "#loading the pre-trained DenseNet121 model \n",
        "tf.keras.backend.clear_session()\n",
        "model_embedding = tf.keras.applications.DenseNet121(\n",
        "    include_top=False, weights='imagenet', input_tensor=None, input_shape=(520,520,3),\n",
        "    pooling=None,\n",
        ")\n",
        "def load_img(path):\n",
        "\n",
        "  img = cv2.imread(path,cv2.IMREAD_UNCHANGED) \n",
        "  img = cv2.resize(img,(520,520),interpolation=cv2.INTER_AREA)\n",
        "  img = cv2.cvtColor(img,cv2.COLOR_BGR2RGB)\n",
        "  img = tf.image.convert_image_dtype(img,tf.float32)[tf.newaxis, ...] \n",
        "  return img \n",
        "\n",
        "#function to get the embedding\n",
        "def get_embeddings(path):\n",
        "  img = load_img(path)\n",
        "  op = model_embedding.predict(img,steps=1)\n",
        "  op = tf.squeeze(op, axis=None, name=None)\n",
        "  op = tf.reduce_mean(op, axis=(0,1), keepdims=False, name=None).numpy()\n",
        "  #op = op.eval(session=tf.Session()) \n",
        "  op = op.tolist()\n",
        "  return op"
      ],
      "execution_count": 2,
      "outputs": [
        {
          "output_type": "stream",
          "text": [
            "Downloading data from https://storage.googleapis.com/tensorflow/keras-applications/densenet/densenet121_weights_tf_dim_ordering_tf_kernels_notop.h5\n",
            "29089792/29084464 [==============================] - 0s 0us/step\n"
          ],
          "name": "stdout"
        }
      ]
    },
    {
      "cell_type": "code",
      "metadata": {
        "colab": {
          "base_uri": "https://localhost:8080/"
        },
        "id": "I1YUrzP61-lP",
        "outputId": "534eb16a-4e19-4901-9c36-f5056ed7e57e"
      },
      "source": [
        "start_time = dt.datetime.now()\n",
        "em1 = get_embeddings('/content/image1000_0.jpg')\n",
        "print(\"Time taken to generate embeddings \",dt.datetime.now()-start_time)"
      ],
      "execution_count": null,
      "outputs": [
        {
          "output_type": "stream",
          "text": [
            "Time taken to generate embeddings  0:00:32.519287\n"
          ],
          "name": "stdout"
        }
      ]
    },
    {
      "cell_type": "markdown",
      "metadata": {
        "id": "k_x5IUSy2mqw"
      },
      "source": [
        "<h3>Module 4 (Store embeddings)</h3>\n",
        "\n",
        "this module will store all our embeddings in Elastic Search and Faiss so can easily retrive them using similarity logic"
      ]
    },
    {
      "cell_type": "code",
      "metadata": {
        "colab": {
          "base_uri": "https://localhost:8080/"
        },
        "id": "69PpI7eV2iql",
        "outputId": "7baa29e5-9e20-4396-ecd8-798eb7c05720"
      },
      "source": [
        "!pip install elasticsearch\n",
        "!pip install -q kaggle"
      ],
      "execution_count": 5,
      "outputs": [
        {
          "output_type": "stream",
          "text": [
            "Collecting elasticsearch\n",
            "\u001b[?25l  Downloading https://files.pythonhosted.org/packages/09/93/461a042becf2a35a666fb7dbb2fa31f0f766dfd1b01e7d971f4ad51f0d69/elasticsearch-7.12.0-py2.py3-none-any.whl (334kB)\n",
            "\r\u001b[K     |█                               | 10kB 23.4MB/s eta 0:00:01\r\u001b[K     |██                              | 20kB 14.2MB/s eta 0:00:01\r\u001b[K     |███                             | 30kB 13.2MB/s eta 0:00:01\r\u001b[K     |████                            | 40kB 12.4MB/s eta 0:00:01\r\u001b[K     |█████                           | 51kB 8.6MB/s eta 0:00:01\r\u001b[K     |█████▉                          | 61kB 9.1MB/s eta 0:00:01\r\u001b[K     |██████▉                         | 71kB 9.2MB/s eta 0:00:01\r\u001b[K     |███████▉                        | 81kB 9.4MB/s eta 0:00:01\r\u001b[K     |████████▉                       | 92kB 9.6MB/s eta 0:00:01\r\u001b[K     |█████████▉                      | 102kB 8.3MB/s eta 0:00:01\r\u001b[K     |██████████▊                     | 112kB 8.3MB/s eta 0:00:01\r\u001b[K     |███████████▊                    | 122kB 8.3MB/s eta 0:00:01\r\u001b[K     |████████████▊                   | 133kB 8.3MB/s eta 0:00:01\r\u001b[K     |█████████████▊                  | 143kB 8.3MB/s eta 0:00:01\r\u001b[K     |██████████████▊                 | 153kB 8.3MB/s eta 0:00:01\r\u001b[K     |███████████████▊                | 163kB 8.3MB/s eta 0:00:01\r\u001b[K     |████████████████▋               | 174kB 8.3MB/s eta 0:00:01\r\u001b[K     |█████████████████▋              | 184kB 8.3MB/s eta 0:00:01\r\u001b[K     |██████████████████▋             | 194kB 8.3MB/s eta 0:00:01\r\u001b[K     |███████████████████▋            | 204kB 8.3MB/s eta 0:00:01\r\u001b[K     |████████████████████▋           | 215kB 8.3MB/s eta 0:00:01\r\u001b[K     |█████████████████████▌          | 225kB 8.3MB/s eta 0:00:01\r\u001b[K     |██████████████████████▌         | 235kB 8.3MB/s eta 0:00:01\r\u001b[K     |███████████████████████▌        | 245kB 8.3MB/s eta 0:00:01\r\u001b[K     |████████████████████████▌       | 256kB 8.3MB/s eta 0:00:01\r\u001b[K     |█████████████████████████▌      | 266kB 8.3MB/s eta 0:00:01\r\u001b[K     |██████████████████████████▍     | 276kB 8.3MB/s eta 0:00:01\r\u001b[K     |███████████████████████████▍    | 286kB 8.3MB/s eta 0:00:01\r\u001b[K     |████████████████████████████▍   | 296kB 8.3MB/s eta 0:00:01\r\u001b[K     |█████████████████████████████▍  | 307kB 8.3MB/s eta 0:00:01\r\u001b[K     |██████████████████████████████▍ | 317kB 8.3MB/s eta 0:00:01\r\u001b[K     |███████████████████████████████▍| 327kB 8.3MB/s eta 0:00:01\r\u001b[K     |████████████████████████████████| 337kB 8.3MB/s \n",
            "\u001b[?25hRequirement already satisfied: urllib3<2,>=1.21.1 in /usr/local/lib/python3.7/dist-packages (from elasticsearch) (1.24.3)\n",
            "Requirement already satisfied: certifi in /usr/local/lib/python3.7/dist-packages (from elasticsearch) (2020.12.5)\n",
            "Installing collected packages: elasticsearch\n",
            "Successfully installed elasticsearch-7.12.0\n"
          ],
          "name": "stdout"
        }
      ]
    },
    {
      "cell_type": "code",
      "metadata": {
        "colab": {
          "base_uri": "https://localhost:8080/"
        },
        "id": "fQHO5JSs47C0",
        "outputId": "e8676f9c-4202-4108-c99d-ba7c6ab7826e"
      },
      "source": [
        "#downloading the required files\n",
        "# !gdown --id 1iVn4WhmZoq7lWgB1cPE6F8LzkQbf1dQ8\n",
        "!gdown --id 1wDMBZIABSRsdiLYQ5Y9uBzh41a5nX2qt\n",
        "# !gdown --id 1CBDJaBAq7HDM-Qkp91oVus4cSS3EIkMn"
      ],
      "execution_count": 3,
      "outputs": [
        {
          "output_type": "stream",
          "text": [
            "Downloading...\n",
            "From: https://drive.google.com/uc?id=1wDMBZIABSRsdiLYQ5Y9uBzh41a5nX2qt\n",
            "To: /content/Final.csv\n",
            "1.67GB [00:15, 109MB/s]\n"
          ],
          "name": "stdout"
        }
      ]
    },
    {
      "cell_type": "code",
      "metadata": {
        "id": "UZz_3Ymn5F6Q"
      },
      "source": [
        "!mkdir ~/.kaggle\n",
        "!cp kaggle.json ~/.kaggle/\n",
        "!chmod 600 ~/.kaggle/kaggle.json"
      ],
      "execution_count": 10,
      "outputs": []
    },
    {
      "cell_type": "code",
      "metadata": {
        "id": "mgohh4Ev2zVW"
      },
      "source": [
        "from elasticsearch import Elasticsearch , helpers"
      ],
      "execution_count": 6,
      "outputs": []
    },
    {
      "cell_type": "code",
      "metadata": {
        "colab": {
          "base_uri": "https://localhost:8080/"
        },
        "id": "P1xTfq5L3Qd8",
        "outputId": "03063379-47a5-4646-8c4b-8ab8a05aa381"
      },
      "source": [
        "#downloaded the dataset from kaggle\n",
        "!kaggle datasets download -d shreyas90999/mycasestudy02ee"
      ],
      "execution_count": 12,
      "outputs": [
        {
          "output_type": "stream",
          "text": [
            "Downloading mycasestudy02ee.zip to /content\n",
            "100% 11.1G/11.1G [04:26<00:00, 48.4MB/s]\n",
            "100% 11.1G/11.1G [04:26<00:00, 44.6MB/s]\n"
          ],
          "name": "stdout"
        }
      ]
    },
    {
      "cell_type": "code",
      "metadata": {
        "id": "TXvcLwMw8SK7"
      },
      "source": [
        "!mkdir data\n",
        "!unzip -q '/content/mycasestudy02ee.zip' -d '/content/data'"
      ],
      "execution_count": 13,
      "outputs": []
    },
    {
      "cell_type": "code",
      "metadata": {
        "id": "iEyLkf9l8jin"
      },
      "source": [
        "!rm -rf '/content/mycasestudy02ee.zip'"
      ],
      "execution_count": 14,
      "outputs": []
    },
    {
      "cell_type": "code",
      "metadata": {
        "colab": {
          "base_uri": "https://localhost:8080/",
          "height": 66,
          "referenced_widgets": [
            "ac1629a973f84b369c82111a3e1aa3c0",
            "85045a45cca84dca8a56e7f3aef63d3d",
            "f16d41a962784bd891c8ea41ee2f4ca6",
            "ab36bc007ead47eeaf371664fa2a6fc0",
            "c90a79c80d47418aa03985675b497860",
            "77c1ac8bbbb24e00966ce7c88fa3585c",
            "92fe0f63dd2c42b1baa0a9ace9e1983c",
            "99b468a616754a97bdc37d4992333fbf"
          ]
        },
        "id": "mAB8j5yr7doL",
        "outputId": "e8dad4dd-862c-47a6-e58e-b432a7f76d8e"
      },
      "source": [
        "#get data from json file\n",
        "folder = []\n",
        "json_file =[]\n",
        "for (root,dirs,files) in tqdm(os.walk('/content/data/', topdown=False)):\n",
        "  for directory in dirs:\n",
        "    for i in os.listdir(root+directory):\n",
        "      if i.endswith('.json'):\n",
        "        folder.append(directory)\n",
        "        json_file.append(i)"
      ],
      "execution_count": 15,
      "outputs": [
        {
          "output_type": "display_data",
          "data": {
            "application/vnd.jupyter.widget-view+json": {
              "model_id": "ac1629a973f84b369c82111a3e1aa3c0",
              "version_minor": 0,
              "version_major": 2
            },
            "text/plain": [
              "HBox(children=(FloatProgress(value=1.0, bar_style='info', max=1.0), HTML(value='')))"
            ]
          },
          "metadata": {
            "tags": []
          }
        },
        {
          "output_type": "stream",
          "text": [
            "\n"
          ],
          "name": "stdout"
        }
      ]
    },
    {
      "cell_type": "code",
      "metadata": {
        "id": "oEJCN2zo7ywA"
      },
      "source": [
        "#creating a csv and list by grouping categories into the main categories with the similar type of products \n",
        "super_cat = []\n",
        "cat = []\n",
        "info = []\n",
        "file_name = []\n",
        "url =[]\n",
        "for i in range(len(json_file)):\n",
        "  f = open('/content/data/' + folder[i] + '/' + json_file[i] )\n",
        "  data = json.load(f)\n",
        "  for j in data['name']:\n",
        "    if folder[i]=='women_boots' or folder[i]=='women_casual_shoes' or folder[i]=='women_flats' or folder[i]=='women_heels':\n",
        "       super_cat.append('foot_ware')\n",
        "       cat.append(folder[i])\n",
        "       info.append(json_file[i])\n",
        "       file_name.append(j)\n",
        "       url.append(data['url'])\n",
        "    if folder[i]=='women_shirts_tops_tees':\n",
        "      super_cat.append('upper_ware')\n",
        "      cat.append(folder[i])\n",
        "      info.append(json_file[i])\n",
        "      file_name.append(j)\n",
        "      url.append(data['url'])\n",
        "    if folder[i]=='women_jeans_jeggings' or folder[i]=='women_shorts_skirts' or folder[i]=='women_trousers':\n",
        "      super_cat.append('lower_ware')\n",
        "      cat.append(folder[i])\n",
        "      info.append(json_file[i])\n",
        "      file_name.append(j)\n",
        "      url.append(data['url'])\n",
        "  f.close()"
      ],
      "execution_count": 16,
      "outputs": []
    },
    {
      "cell_type": "code",
      "metadata": {
        "id": "NclVHcYs8DbG"
      },
      "source": [
        "#creating a dataframe with list of categories\n",
        "df = pd.DataFrame({ 'id':np.arange(len(file_name)),\n",
        "                    'super_cat':super_cat,\n",
        "                   'cat':cat,\n",
        "                   'info':info,\n",
        "                   'file_name':file_name,\n",
        "                   'url':url})"
      ],
      "execution_count": 17,
      "outputs": []
    },
    {
      "cell_type": "code",
      "metadata": {
        "colab": {
          "base_uri": "https://localhost:8080/"
        },
        "id": "AkrpdNACOvRn",
        "outputId": "691ed223-f3af-4d4e-a345-2d1b75aaf448"
      },
      "source": [
        "df.shape"
      ],
      "execution_count": 21,
      "outputs": [
        {
          "output_type": "execute_result",
          "data": {
            "text/plain": [
              "(75298, 6)"
            ]
          },
          "metadata": {
            "tags": []
          },
          "execution_count": 21
        }
      ]
    },
    {
      "cell_type": "code",
      "metadata": {
        "id": "ZxkD3mnOsUYd"
      },
      "source": [
        "#initializing the elasticsearch object \n",
        "es = Elasticsearch(\n",
        "    cloud_id='i-o-optimized-deployment:dXMtd2VzdDEuZ2NwLmNsb3VkLmVzLmlvJGE2NTI0MTAyMDY3YzQ2ZjZiZjhlZGVhMjE4OTI0YWI2JGNjYjdhMDkxOTEwMjQ1MGZiZjE0YjM5ZTI5ODlhZjQx',\n",
        "    http_auth=('elastic', 'x9CH4HKxVjMX18SSPuSVDVkb'),\n",
        ")"
      ],
      "execution_count": 93,
      "outputs": []
    },
    {
      "cell_type": "code",
      "metadata": {
        "id": "jv7abk2T8Ofo"
      },
      "source": [
        "#creating the schema in elasticsearch\n",
        "create_query = {\n",
        "    \"mappings\": {\n",
        "        \"properties\": {\n",
        "            \"description_vector\": {\n",
        "                \"type\": \"dense_vector\",\n",
        "                \"dims\": 1024\n",
        "            }\n",
        "        }\n",
        "    }\n",
        "}\n",
        "#create index\n",
        "es.indices.create(index=\"upper_ware\", body=create_query)\n",
        "es.indices.create(index=\"foot_ware\", body=create_query)\n",
        "es.indices.create(index=\"lower_ware\", body=create_query)"
      ],
      "execution_count": null,
      "outputs": []
    },
    {
      "cell_type": "code",
      "metadata": {
        "id": "pob9QkN9yOGm",
        "colab": {
          "base_uri": "https://localhost:8080/",
          "height": 66,
          "referenced_widgets": [
            "a82e5486ab1c4d97bcaf8f7961b5f2cf",
            "b82cc8a71b5346dd935ea70931c48265",
            "ad7e119a312f4c90a8bd45855fb9e7bc",
            "6da79c84cd98498bbc22170bc7100494",
            "5945ba7b9b0d4c7f865f0afee9ba650e",
            "e62e9d9c80d243c5857e72eee3c57e7a",
            "0b34aec7378e454689b4da27e42ffdea",
            "977768d58324490e9e501db8474c772d"
          ]
        },
        "outputId": "643b5a10-3bef-41bc-cc7b-6f8ddfeb3d16"
      },
      "source": [
        "#genrate docs and embedding to transfer to Elastic search\n",
        "docs = []\n",
        "emd = []\n",
        "count =0\n",
        "for row in tqdm(df.iterrows()):\n",
        "  json_obj = {}\n",
        "  path = root + row[1]['cat']+'/' + row[1]['file_name']\n",
        "  em = get_embeddings(path)\n",
        "  json_obj['_index']=row[1]['super_cat']\n",
        "  json_obj['_id']=row[1]['id']\n",
        "  json_obj['url'] = row[1]['url']\n",
        "  json_obj['cat'] = row[1]['cat']\n",
        "  json_obj['file_name'] = row[1]['file_name']\n",
        "  json_obj['description_vector'] = em\n",
        "  emd.append(em)\n",
        "  docs.append(json_obj)\n",
        "  "
      ],
      "execution_count": 43,
      "outputs": [
        {
          "output_type": "display_data",
          "data": {
            "application/vnd.jupyter.widget-view+json": {
              "model_id": "a82e5486ab1c4d97bcaf8f7961b5f2cf",
              "version_minor": 0,
              "version_major": 2
            },
            "text/plain": [
              "HBox(children=(FloatProgress(value=1.0, bar_style='info', max=1.0), HTML(value='')))"
            ]
          },
          "metadata": {
            "tags": []
          }
        },
        {
          "output_type": "stream",
          "text": [
            "\n"
          ],
          "name": "stdout"
        }
      ]
    },
    {
      "cell_type": "code",
      "metadata": {
        "id": "sc21SBBSmDRa"
      },
      "source": [
        "#adding the embedding into the dataframe\n",
        "df['description_vector']=emd"
      ],
      "execution_count": 44,
      "outputs": []
    },
    {
      "cell_type": "code",
      "metadata": {
        "colab": {
          "base_uri": "https://localhost:8080/",
          "height": 309
        },
        "id": "j5FaxjaKmJ3T",
        "outputId": "2fe929d5-b985-4584-fec3-b097d21be716"
      },
      "source": [
        "df.head()"
      ],
      "execution_count": 45,
      "outputs": [
        {
          "output_type": "execute_result",
          "data": {
            "text/html": [
              "<div>\n",
              "<style scoped>\n",
              "    .dataframe tbody tr th:only-of-type {\n",
              "        vertical-align: middle;\n",
              "    }\n",
              "\n",
              "    .dataframe tbody tr th {\n",
              "        vertical-align: top;\n",
              "    }\n",
              "\n",
              "    .dataframe thead th {\n",
              "        text-align: right;\n",
              "    }\n",
              "</style>\n",
              "<table border=\"1\" class=\"dataframe\">\n",
              "  <thead>\n",
              "    <tr style=\"text-align: right;\">\n",
              "      <th></th>\n",
              "      <th>id</th>\n",
              "      <th>super_cat</th>\n",
              "      <th>cat</th>\n",
              "      <th>info</th>\n",
              "      <th>file_name</th>\n",
              "      <th>url</th>\n",
              "      <th>description_vector</th>\n",
              "    </tr>\n",
              "  </thead>\n",
              "  <tbody>\n",
              "    <tr>\n",
              "      <th>0</th>\n",
              "      <td>0</td>\n",
              "      <td>lower_ware</td>\n",
              "      <td>women_trousers</td>\n",
              "      <td>image1014.json</td>\n",
              "      <td>image1014_0.jpg</td>\n",
              "      <td>https://www.myntra.com/trousers/fablestreet/fa...</td>\n",
              "      <td>[0.00033520295983180404, 0.0021647484973073006...</td>\n",
              "    </tr>\n",
              "    <tr>\n",
              "      <th>1</th>\n",
              "      <td>1</td>\n",
              "      <td>lower_ware</td>\n",
              "      <td>women_trousers</td>\n",
              "      <td>image1014.json</td>\n",
              "      <td>image1014_1.jpg</td>\n",
              "      <td>https://www.myntra.com/trousers/fablestreet/fa...</td>\n",
              "      <td>[0.00034161005169153214, 0.0010327675845474005...</td>\n",
              "    </tr>\n",
              "    <tr>\n",
              "      <th>2</th>\n",
              "      <td>2</td>\n",
              "      <td>lower_ware</td>\n",
              "      <td>women_trousers</td>\n",
              "      <td>image1014.json</td>\n",
              "      <td>image1014_2.jpg</td>\n",
              "      <td>https://www.myntra.com/trousers/fablestreet/fa...</td>\n",
              "      <td>[0.0002880047250073403, 0.002158018760383129, ...</td>\n",
              "    </tr>\n",
              "    <tr>\n",
              "      <th>3</th>\n",
              "      <td>3</td>\n",
              "      <td>lower_ware</td>\n",
              "      <td>women_trousers</td>\n",
              "      <td>image1014.json</td>\n",
              "      <td>image1014_3.jpg</td>\n",
              "      <td>https://www.myntra.com/trousers/fablestreet/fa...</td>\n",
              "      <td>[0.00036859430838376284, 0.0016940443310886621...</td>\n",
              "    </tr>\n",
              "    <tr>\n",
              "      <th>4</th>\n",
              "      <td>4</td>\n",
              "      <td>lower_ware</td>\n",
              "      <td>women_trousers</td>\n",
              "      <td>image1014.json</td>\n",
              "      <td>image1014_4.jpg</td>\n",
              "      <td>https://www.myntra.com/trousers/fablestreet/fa...</td>\n",
              "      <td>[0.00037159663042984903, 0.0008401929517276585...</td>\n",
              "    </tr>\n",
              "  </tbody>\n",
              "</table>\n",
              "</div>"
            ],
            "text/plain": [
              "   id  ...                                 description_vector\n",
              "0   0  ...  [0.00033520295983180404, 0.0021647484973073006...\n",
              "1   1  ...  [0.00034161005169153214, 0.0010327675845474005...\n",
              "2   2  ...  [0.0002880047250073403, 0.002158018760383129, ...\n",
              "3   3  ...  [0.00036859430838376284, 0.0016940443310886621...\n",
              "4   4  ...  [0.00037159663042984903, 0.0008401929517276585...\n",
              "\n",
              "[5 rows x 7 columns]"
            ]
          },
          "metadata": {
            "tags": []
          },
          "execution_count": 45
        }
      ]
    },
    {
      "cell_type": "code",
      "metadata": {
        "id": "5OK5TYIHnAhH"
      },
      "source": [
        "#saving into the file for further use\n",
        "df.to_csv('Final.csv')"
      ],
      "execution_count": 46,
      "outputs": []
    },
    {
      "cell_type": "code",
      "metadata": {
        "id": "AUWt-XJLEsLp"
      },
      "source": [
        "df = pd.read_csv('Final.csv')"
      ],
      "execution_count": 5,
      "outputs": []
    },
    {
      "cell_type": "code",
      "metadata": {
        "colab": {
          "base_uri": "https://localhost:8080/"
        },
        "id": "tR5q0CPjItUG",
        "outputId": "f50f2e80-c7fa-43ea-fb3d-32b3cc849d29"
      },
      "source": [
        "#transfer all embeddings to Elastic Search\n",
        "helpers.bulk(es, docs)"
      ],
      "execution_count": null,
      "outputs": [
        {
          "output_type": "execute_result",
          "data": {
            "text/plain": [
              "(75298, [])"
            ]
          },
          "metadata": {
            "tags": []
          },
          "execution_count": 18
        }
      ]
    },
    {
      "cell_type": "code",
      "metadata": {
        "id": "mbAtpguJI70p"
      },
      "source": [
        "#Search query ( will now search for similar products)\n",
        "def search_similar_image(query_vec,index_label):\n",
        "  search_query = {\n",
        "      \"size\": 10,\n",
        "      \"_source\": {\n",
        "          \"includes\": [\"file_name\",\"url\"]\n",
        "      },\n",
        "      \"query\": {\n",
        "          \"script_score\": {\n",
        "              \"query\": {\n",
        "                  \"match_all\": {}\n",
        "              },\n",
        "              \"script\": {\n",
        "                  #\"source\": \"cosineSimilarity(params.queryVector, 'description_vector') + 1.0\",\n",
        "                  \"source\": \"1 / l2norm(params.queryVector,'description_vector') + 1.0\",\n",
        "                  \"params\": {\n",
        "                      \"queryVector\": query_vec\n",
        "                  }\n",
        "              }\n",
        "          }\n",
        "      }\n",
        "  }\n",
        "  response = es.search(\n",
        "      index= index_label,\n",
        "      body=search_query\n",
        "  )\n",
        "\n",
        "  return response"
      ],
      "execution_count": 99,
      "outputs": []
    },
    {
      "cell_type": "code",
      "metadata": {
        "id": "iBhX7wiXI_Hl"
      },
      "source": [
        "query_emb = get_embeddings('/content/image1000_0.jpg')"
      ],
      "execution_count": 80,
      "outputs": []
    },
    {
      "cell_type": "code",
      "metadata": {
        "id": "cf4UyYPvJNr2",
        "colab": {
          "base_uri": "https://localhost:8080/"
        },
        "outputId": "a5f5f45b-3acd-4a2a-ef37-2fc49424fcf6"
      },
      "source": [
        "%%time\n",
        "index_label = 'upper_ware'\n",
        "response = search_similar_image(query_emb,index_label)"
      ],
      "execution_count": 100,
      "outputs": [
        {
          "output_type": "stream",
          "text": [
            "CPU times: user 16 ms, sys: 1.07 ms, total: 17.1 ms\n",
            "Wall time: 124 ms\n"
          ],
          "name": "stdout"
        }
      ]
    },
    {
      "cell_type": "code",
      "metadata": {
        "colab": {
          "base_uri": "https://localhost:8080/"
        },
        "id": "VhU24d6rJT5J",
        "outputId": "f0f9172b-515c-47c7-c2bd-15d116fa7c33"
      },
      "source": [
        "#below are results of similar items that we added in Elastic search\n",
        "response"
      ],
      "execution_count": 101,
      "outputs": [
        {
          "output_type": "execute_result",
          "data": {
            "text/plain": [
              "{'_shards': {'failed': 0, 'skipped': 0, 'successful': 1, 'total': 1},\n",
              " 'hits': {'hits': [{'_id': '47119',\n",
              "    '_index': 'upper_ware',\n",
              "    '_score': 119978.21,\n",
              "    '_source': {'file_name': 'image1000_0.jpg',\n",
              "     'url': 'https://www.myntra.com/tops/forever-new/forever-new-women-white-solid-shirred-ruffle-crop-top/11782572/buy'},\n",
              "    '_type': '_doc'},\n",
              "   {'_id': '51256',\n",
              "    '_index': 'upper_ware',\n",
              "    '_score': 119978.21,\n",
              "    '_source': {'file_name': 'image950_0.jpg',\n",
              "     'url': 'https://www.myntra.com/tops/forever-new/forever-new-women-white-solid-shirred-ruffle-crop-top/11782572/buy'},\n",
              "    '_type': '_doc'},\n",
              "   {'_id': '47120',\n",
              "    '_index': 'upper_ware',\n",
              "    '_score': 1.172966,\n",
              "    '_source': {'file_name': 'image1000_1.jpg',\n",
              "     'url': 'https://www.myntra.com/tops/forever-new/forever-new-women-white-solid-shirred-ruffle-crop-top/11782572/buy'},\n",
              "    '_type': '_doc'},\n",
              "   {'_id': '51257',\n",
              "    '_index': 'upper_ware',\n",
              "    '_score': 1.172966,\n",
              "    '_source': {'file_name': 'image950_1.jpg',\n",
              "     'url': 'https://www.myntra.com/tops/forever-new/forever-new-women-white-solid-shirred-ruffle-crop-top/11782572/buy'},\n",
              "    '_type': '_doc'},\n",
              "   {'_id': '47121',\n",
              "    '_index': 'upper_ware',\n",
              "    '_score': 1.1709356,\n",
              "    '_source': {'file_name': 'image1000_2.jpg',\n",
              "     'url': 'https://www.myntra.com/tops/forever-new/forever-new-women-white-solid-shirred-ruffle-crop-top/11782572/buy'},\n",
              "    '_type': '_doc'},\n",
              "   {'_id': '51258',\n",
              "    '_index': 'upper_ware',\n",
              "    '_score': 1.1709356,\n",
              "    '_source': {'file_name': 'image950_2.jpg',\n",
              "     'url': 'https://www.myntra.com/tops/forever-new/forever-new-women-white-solid-shirred-ruffle-crop-top/11782572/buy'},\n",
              "    '_type': '_doc'},\n",
              "   {'_id': '49830',\n",
              "    '_index': 'upper_ware',\n",
              "    '_score': 1.1584523,\n",
              "    '_source': {'file_name': 'image3948_0.jpg',\n",
              "     'url': 'https://www.myntra.com/tops/cotton-on/cotton-on-women-white-solid-a-line-top/10361701/buy'},\n",
              "    '_type': '_doc'},\n",
              "   {'_id': '42870',\n",
              "    '_index': 'upper_ware',\n",
              "    '_score': 1.1576065,\n",
              "    '_source': {'file_name': 'image3898_0.jpg',\n",
              "     'url': 'https://www.myntra.com/tops/cotton-on/cotton-on-women-white-solid-a-line-top/10361701/buy'},\n",
              "    '_type': '_doc'},\n",
              "   {'_id': '51452',\n",
              "    '_index': 'upper_ware',\n",
              "    '_score': 1.1569997,\n",
              "    '_source': {'file_name': 'image663_1.jpg',\n",
              "     'url': 'https://www.myntra.com/tops/ovs/ovs-women-white-solid-bardot-top/6786452/buy'},\n",
              "    '_type': '_doc'},\n",
              "   {'_id': '56173',\n",
              "    '_index': 'upper_ware',\n",
              "    '_score': 1.1569997,\n",
              "    '_source': {'file_name': 'image713_1.jpg',\n",
              "     'url': 'https://www.myntra.com/tops/ovs/ovs-women-white-solid-bardot-top/6786452/buy'},\n",
              "    '_type': '_doc'}],\n",
              "  'max_score': 119978.21,\n",
              "  'total': {'relation': 'gte', 'value': 10000}},\n",
              " 'timed_out': False,\n",
              " 'took': 60}"
            ]
          },
          "metadata": {
            "tags": []
          },
          "execution_count": 101
        }
      ]
    },
    {
      "cell_type": "markdown",
      "metadata": {
        "id": "5ZkNcN7Bma3v"
      },
      "source": [
        "<h3>Storing in Faiss</h3>"
      ]
    },
    {
      "cell_type": "code",
      "metadata": {
        "colab": {
          "base_uri": "https://localhost:8080/"
        },
        "id": "Hk5FclBP8bj1",
        "outputId": "cf58cb2c-76c8-41d7-b9c3-29bc4dda3f82"
      },
      "source": [
        "!pip install faiss-gpu"
      ],
      "execution_count": 6,
      "outputs": [
        {
          "output_type": "stream",
          "text": [
            "Collecting faiss-gpu\n",
            "\u001b[?25l  Downloading https://files.pythonhosted.org/packages/5d/36/383911b8edf8c29cb7e9e8aee4e6b69b0f36c52237e3a06ce64a9551ef22/faiss_gpu-1.7.0-cp37-cp37m-manylinux2014_x86_64.whl (89.4MB)\n",
            "\u001b[K     |████████████████████████████████| 89.4MB 52kB/s \n",
            "\u001b[?25hInstalling collected packages: faiss-gpu\n",
            "Successfully installed faiss-gpu-1.7.0\n"
          ],
          "name": "stdout"
        }
      ]
    },
    {
      "cell_type": "code",
      "metadata": {
        "id": "8sssf15L95Is"
      },
      "source": [
        "import faiss                   # make faiss available"
      ],
      "execution_count": 7,
      "outputs": []
    },
    {
      "cell_type": "code",
      "metadata": {
        "id": "SODwW0syT6uJ"
      },
      "source": [
        "#retriving embedding into list from the dataframe\n",
        "list_emb = []\n",
        "for i in range(len(df['description_vector'])):\n",
        "  list_emb.append(eval(df['description_vector'][i]))"
      ],
      "execution_count": 18,
      "outputs": []
    },
    {
      "cell_type": "code",
      "metadata": {
        "id": "8-XwgCmvsAav"
      },
      "source": [
        "emb = np.array(list_emb)\n",
        "img_emb = emb.astype('float32')"
      ],
      "execution_count": 21,
      "outputs": []
    },
    {
      "cell_type": "code",
      "metadata": {
        "colab": {
          "base_uri": "https://localhost:8080/"
        },
        "id": "7UjJ3taHcntg",
        "outputId": "bc8a94fd-2d82-426e-c199-bf64f4a7d328"
      },
      "source": [
        "img_emb.shape"
      ],
      "execution_count": 24,
      "outputs": [
        {
          "output_type": "execute_result",
          "data": {
            "text/plain": [
              "(75298, 1024)"
            ]
          },
          "metadata": {
            "tags": []
          },
          "execution_count": 24
        }
      ]
    },
    {
      "cell_type": "code",
      "metadata": {
        "id": "lzmUNphBYzOv"
      },
      "source": [
        "#cosin quantizer\n",
        "nlist = 5  # number of clusters\n",
        "PerVec = 8\n",
        "SubPerVec = 8\n",
        "quantizer = faiss.IndexFlatIP(1024)\n",
        "# index = faiss.IndexFlatIP(1024)\n",
        "index = faiss.IndexIVFPQ(quantizer,1024,nlist,PerVec,SubPerVec)\n",
        "index.train(img_emb)\n",
        "index.add(img_emb)"
      ],
      "execution_count": 43,
      "outputs": []
    },
    {
      "cell_type": "code",
      "metadata": {
        "colab": {
          "base_uri": "https://localhost:8080/"
        },
        "id": "Ihr2FArer_I1",
        "outputId": "a7506cab-b14d-4ec6-94c1-9b98896e4015"
      },
      "source": [
        "#euclidean distance quantizer\n",
        "quantizer = faiss.IndexFlatL2(1024)   # build the index\n",
        "index = faiss.IndexIVFPQ(quantizer,1024,nlist,PerVec,SubPerVec)\n",
        "index.train(img_emb)\n",
        "print(index.is_trained)\n",
        "index.add(img_emb)                  # add vectors to the index\n",
        "print(index.ntotal)"
      ],
      "execution_count": 51,
      "outputs": [
        {
          "output_type": "stream",
          "text": [
            "True\n",
            "75298\n"
          ],
          "name": "stdout"
        }
      ]
    },
    {
      "cell_type": "code",
      "metadata": {
        "id": "8ceYyYWSFVq5"
      },
      "source": [
        "query_emb = get_embeddings('/content/image1.jpg')"
      ],
      "execution_count": 28,
      "outputs": []
    },
    {
      "cell_type": "code",
      "metadata": {
        "id": "uJy55HDA49t9"
      },
      "source": [
        "# converting the list to array for seraching the product\n",
        "query_emb = np.array(query_emb)\n",
        "query_emb= query_emb.astype('float32')"
      ],
      "execution_count": 29,
      "outputs": []
    },
    {
      "cell_type": "code",
      "metadata": {
        "colab": {
          "base_uri": "https://localhost:8080/"
        },
        "id": "jBMr-GLr5U_m",
        "outputId": "44f4ae38-f745-4da6-aeaa-ece21efe3d55"
      },
      "source": [
        "row_vector = query_emb[np.newaxis,:]\n",
        "row_vector.shape"
      ],
      "execution_count": 30,
      "outputs": [
        {
          "output_type": "execute_result",
          "data": {
            "text/plain": [
              "(1, 1024)"
            ]
          },
          "metadata": {
            "tags": []
          },
          "execution_count": 30
        }
      ]
    },
    {
      "cell_type": "code",
      "metadata": {
        "colab": {
          "base_uri": "https://localhost:8080/"
        },
        "id": "jdxzZoCu-B-5",
        "outputId": "eefd3070-2b93-4588-916e-b0752c897415"
      },
      "source": [
        "# search the product from the embedding saved with euclidean into the faiss\n",
        "%%time\n",
        "k = 10                          # we want to see 4 nearest neighbors\n",
        "D, I = index.search(row_vector, k) # sanity check\n",
        "print(I[0]) #index\n",
        "print(D) #distance"
      ],
      "execution_count": 52,
      "outputs": [
        {
          "output_type": "stream",
          "text": [
            "[14926 16324 16069 14575 13245 16028 14688 14125 15779 16071]\n",
            "[[14.260212 14.486645 14.486645 14.498741 14.859512 14.954227 15.036573\n",
            "  15.09613  15.114634 15.211807]]\n",
            "CPU times: user 4.15 ms, sys: 2.01 ms, total: 6.16 ms\n",
            "Wall time: 6.47 ms\n"
          ],
          "name": "stdout"
        }
      ]
    },
    {
      "cell_type": "code",
      "metadata": {
        "id": "6F7ZUQ9gv6Wq"
      },
      "source": [
        "#filtering the product based on the index\n",
        "rec_pro = df[df.id.isin(I[0])].drop('Unnamed: 0',axis=1)"
      ],
      "execution_count": 53,
      "outputs": []
    },
    {
      "cell_type": "code",
      "metadata": {
        "colab": {
          "base_uri": "https://localhost:8080/",
          "height": 549
        },
        "id": "zNiNWo23wKms",
        "outputId": "f485fee1-1ccb-4ef7-fabc-22a419248a87"
      },
      "source": [
        "rec_pro"
      ],
      "execution_count": 54,
      "outputs": [
        {
          "output_type": "execute_result",
          "data": {
            "text/html": [
              "<div>\n",
              "<style scoped>\n",
              "    .dataframe tbody tr th:only-of-type {\n",
              "        vertical-align: middle;\n",
              "    }\n",
              "\n",
              "    .dataframe tbody tr th {\n",
              "        vertical-align: top;\n",
              "    }\n",
              "\n",
              "    .dataframe thead th {\n",
              "        text-align: right;\n",
              "    }\n",
              "</style>\n",
              "<table border=\"1\" class=\"dataframe\">\n",
              "  <thead>\n",
              "    <tr style=\"text-align: right;\">\n",
              "      <th></th>\n",
              "      <th>id</th>\n",
              "      <th>super_cat</th>\n",
              "      <th>cat</th>\n",
              "      <th>info</th>\n",
              "      <th>file_name</th>\n",
              "      <th>url</th>\n",
              "      <th>description_vector</th>\n",
              "    </tr>\n",
              "  </thead>\n",
              "  <tbody>\n",
              "    <tr>\n",
              "      <th>13245</th>\n",
              "      <td>13245</td>\n",
              "      <td>lower_ware</td>\n",
              "      <td>women_jeans_jeggings</td>\n",
              "      <td>image33.json</td>\n",
              "      <td>image33_1.jpg</td>\n",
              "      <td>https://www.myntra.com/jeans/desigual/desigual...</td>\n",
              "      <td>[0.00032169456244446337, 0.0015724558616057038...</td>\n",
              "    </tr>\n",
              "    <tr>\n",
              "      <th>14125</th>\n",
              "      <td>14125</td>\n",
              "      <td>lower_ware</td>\n",
              "      <td>women_jeans_jeggings</td>\n",
              "      <td>image270.json</td>\n",
              "      <td>image270_1.jpg</td>\n",
              "      <td>https://www.myntra.com/jeans/tommy-hilfiger/to...</td>\n",
              "      <td>[0.00032137089874595404, 0.0015712501481175423...</td>\n",
              "    </tr>\n",
              "    <tr>\n",
              "      <th>14575</th>\n",
              "      <td>14575</td>\n",
              "      <td>lower_ware</td>\n",
              "      <td>women_jeans_jeggings</td>\n",
              "      <td>image202.json</td>\n",
              "      <td>image202_1.jpg</td>\n",
              "      <td>https://www.myntra.com/jeans/american-eagle-ou...</td>\n",
              "      <td>[0.0002735695743467659, 0.0015679027419537306,...</td>\n",
              "    </tr>\n",
              "    <tr>\n",
              "      <th>14688</th>\n",
              "      <td>14688</td>\n",
              "      <td>lower_ware</td>\n",
              "      <td>women_jeans_jeggings</td>\n",
              "      <td>image251.json</td>\n",
              "      <td>image251_1.jpg</td>\n",
              "      <td>https://www.myntra.com/jeans/marks--spencer/ma...</td>\n",
              "      <td>[0.00028662089607678354, 0.0015935034025460482...</td>\n",
              "    </tr>\n",
              "    <tr>\n",
              "      <th>14926</th>\n",
              "      <td>14926</td>\n",
              "      <td>lower_ware</td>\n",
              "      <td>women_jeans_jeggings</td>\n",
              "      <td>image669.json</td>\n",
              "      <td>image669_1.jpg</td>\n",
              "      <td>https://www.myntra.com/jeans/american-eagle-ou...</td>\n",
              "      <td>[0.00031227667932398617, 0.0018144890200346708...</td>\n",
              "    </tr>\n",
              "    <tr>\n",
              "      <th>15779</th>\n",
              "      <td>15779</td>\n",
              "      <td>lower_ware</td>\n",
              "      <td>women_jeans_jeggings</td>\n",
              "      <td>image279.json</td>\n",
              "      <td>image279_1.jpg</td>\n",
              "      <td>https://www.myntra.com/jeans/levis/levis-women...</td>\n",
              "      <td>[0.0003411159268580377, 0.001750853261910379, ...</td>\n",
              "    </tr>\n",
              "    <tr>\n",
              "      <th>16028</th>\n",
              "      <td>16028</td>\n",
              "      <td>lower_ware</td>\n",
              "      <td>women_jeans_jeggings</td>\n",
              "      <td>image226.json</td>\n",
              "      <td>image226_1.jpg</td>\n",
              "      <td>https://www.myntra.com/jeans/only/only-women-b...</td>\n",
              "      <td>[0.00030201056506484747, 0.0016176414210349321...</td>\n",
              "    </tr>\n",
              "    <tr>\n",
              "      <th>16069</th>\n",
              "      <td>16069</td>\n",
              "      <td>lower_ware</td>\n",
              "      <td>women_jeans_jeggings</td>\n",
              "      <td>image454.json</td>\n",
              "      <td>image454_0.jpg</td>\n",
              "      <td>https://www.myntra.com/jeans/superdry/superdry...</td>\n",
              "      <td>[0.0003155630547553301, 0.0010675698285922408,...</td>\n",
              "    </tr>\n",
              "    <tr>\n",
              "      <th>16071</th>\n",
              "      <td>16071</td>\n",
              "      <td>lower_ware</td>\n",
              "      <td>women_jeans_jeggings</td>\n",
              "      <td>image454.json</td>\n",
              "      <td>image454_2.jpg</td>\n",
              "      <td>https://www.myntra.com/jeans/superdry/superdry...</td>\n",
              "      <td>[0.0002897631493397057, 0.00159936782438308, 0...</td>\n",
              "    </tr>\n",
              "    <tr>\n",
              "      <th>16324</th>\n",
              "      <td>16324</td>\n",
              "      <td>lower_ware</td>\n",
              "      <td>women_jeans_jeggings</td>\n",
              "      <td>image504.json</td>\n",
              "      <td>image504_0.jpg</td>\n",
              "      <td>https://www.myntra.com/jeans/superdry/superdry...</td>\n",
              "      <td>[0.0003155630547553301, 0.0010675698285922408,...</td>\n",
              "    </tr>\n",
              "  </tbody>\n",
              "</table>\n",
              "</div>"
            ],
            "text/plain": [
              "          id  ...                                 description_vector\n",
              "13245  13245  ...  [0.00032169456244446337, 0.0015724558616057038...\n",
              "14125  14125  ...  [0.00032137089874595404, 0.0015712501481175423...\n",
              "14575  14575  ...  [0.0002735695743467659, 0.0015679027419537306,...\n",
              "14688  14688  ...  [0.00028662089607678354, 0.0015935034025460482...\n",
              "14926  14926  ...  [0.00031227667932398617, 0.0018144890200346708...\n",
              "15779  15779  ...  [0.0003411159268580377, 0.001750853261910379, ...\n",
              "16028  16028  ...  [0.00030201056506484747, 0.0016176414210349321...\n",
              "16069  16069  ...  [0.0003155630547553301, 0.0010675698285922408,...\n",
              "16071  16071  ...  [0.0002897631493397057, 0.00159936782438308, 0...\n",
              "16324  16324  ...  [0.0003155630547553301, 0.0010675698285922408,...\n",
              "\n",
              "[10 rows x 7 columns]"
            ]
          },
          "metadata": {
            "tags": []
          },
          "execution_count": 54
        }
      ]
    },
    {
      "cell_type": "code",
      "metadata": {
        "colab": {
          "base_uri": "https://localhost:8080/"
        },
        "id": "qWD2LrISgz3z",
        "outputId": "8bd382a7-4826-473f-e38b-b5f9500da304"
      },
      "source": [
        "# search the product from the embedding saved with cosin index into the faiss\n",
        "%%time\n",
        "k = 10                          # we want to see 4 nearest neighbors\n",
        "D, I = index.search(row_vector, k) # sanity check\n",
        "print(I[0]) #index\n",
        "print(D) #distance\n",
        "#filtering the product based on the index\n",
        "rec_pro = df[df.id.isin(I[0])]"
      ],
      "execution_count": 44,
      "outputs": [
        {
          "output_type": "stream",
          "text": [
            "[11870 16571 15226 15833 16518 14533  3559 10929 10265  7553]\n",
            "[[15.234959 16.703098 16.761396 16.761396 17.074736 17.074736 17.364878\n",
            "  17.364878 17.711271 17.711271]]\n",
            "CPU times: user 9.1 ms, sys: 0 ns, total: 9.1 ms\n",
            "Wall time: 8.96 ms\n"
          ],
          "name": "stdout"
        }
      ]
    },
    {
      "cell_type": "code",
      "metadata": {
        "colab": {
          "base_uri": "https://localhost:8080/",
          "height": 549
        },
        "id": "sQe36PKVg_72",
        "outputId": "de5d324b-2548-46de-a0f0-643cb97782f3"
      },
      "source": [
        "rec_pro.drop('Unnamed: 0',axis=1)"
      ],
      "execution_count": 49,
      "outputs": [
        {
          "output_type": "execute_result",
          "data": {
            "text/html": [
              "<div>\n",
              "<style scoped>\n",
              "    .dataframe tbody tr th:only-of-type {\n",
              "        vertical-align: middle;\n",
              "    }\n",
              "\n",
              "    .dataframe tbody tr th {\n",
              "        vertical-align: top;\n",
              "    }\n",
              "\n",
              "    .dataframe thead th {\n",
              "        text-align: right;\n",
              "    }\n",
              "</style>\n",
              "<table border=\"1\" class=\"dataframe\">\n",
              "  <thead>\n",
              "    <tr style=\"text-align: right;\">\n",
              "      <th></th>\n",
              "      <th>id</th>\n",
              "      <th>super_cat</th>\n",
              "      <th>cat</th>\n",
              "      <th>info</th>\n",
              "      <th>file_name</th>\n",
              "      <th>url</th>\n",
              "      <th>description_vector</th>\n",
              "    </tr>\n",
              "  </thead>\n",
              "  <tbody>\n",
              "    <tr>\n",
              "      <th>3559</th>\n",
              "      <td>3559</td>\n",
              "      <td>lower_ware</td>\n",
              "      <td>women_trousers</td>\n",
              "      <td>image1130.json</td>\n",
              "      <td>image1130_0.jpg</td>\n",
              "      <td>https://www.myntra.com/trousers/hm/hm-women-ca...</td>\n",
              "      <td>[0.00034993584267795086, 0.0014610572252422571...</td>\n",
              "    </tr>\n",
              "    <tr>\n",
              "      <th>7553</th>\n",
              "      <td>7553</td>\n",
              "      <td>lower_ware</td>\n",
              "      <td>women_trousers</td>\n",
              "      <td>image522.json</td>\n",
              "      <td>image522_2.jpg</td>\n",
              "      <td>https://www.myntra.com/trousers/kazo/kazo-wome...</td>\n",
              "      <td>[0.0002554995589889586, 0.002343848580494523, ...</td>\n",
              "    </tr>\n",
              "    <tr>\n",
              "      <th>10265</th>\n",
              "      <td>10265</td>\n",
              "      <td>lower_ware</td>\n",
              "      <td>women_trousers</td>\n",
              "      <td>image422.json</td>\n",
              "      <td>image422_2.jpg</td>\n",
              "      <td>https://www.myntra.com/trousers/kazo/kazo-wome...</td>\n",
              "      <td>[0.0002554995589889586, 0.002343848580494523, ...</td>\n",
              "    </tr>\n",
              "    <tr>\n",
              "      <th>10929</th>\n",
              "      <td>10929</td>\n",
              "      <td>lower_ware</td>\n",
              "      <td>women_trousers</td>\n",
              "      <td>image1080.json</td>\n",
              "      <td>image1080_0.jpg</td>\n",
              "      <td>https://www.myntra.com/trousers/hm/hm-women-ca...</td>\n",
              "      <td>[0.00034993584267795086, 0.0014610572252422571...</td>\n",
              "    </tr>\n",
              "    <tr>\n",
              "      <th>11870</th>\n",
              "      <td>11870</td>\n",
              "      <td>lower_ware</td>\n",
              "      <td>women_trousers</td>\n",
              "      <td>image445.json</td>\n",
              "      <td>image445_1.jpg</td>\n",
              "      <td>https://www.myntra.com/trousers/jump-usa/jump-...</td>\n",
              "      <td>[0.0002904768625739962, 0.0008964059525169432,...</td>\n",
              "    </tr>\n",
              "    <tr>\n",
              "      <th>14533</th>\n",
              "      <td>14533</td>\n",
              "      <td>lower_ware</td>\n",
              "      <td>women_jeans_jeggings</td>\n",
              "      <td>image528.json</td>\n",
              "      <td>image528_1.jpg</td>\n",
              "      <td>https://www.myntra.com/jeans/levis/levis-women...</td>\n",
              "      <td>[0.0003462400636635721, 0.0012777912197634578,...</td>\n",
              "    </tr>\n",
              "    <tr>\n",
              "      <th>15226</th>\n",
              "      <td>15226</td>\n",
              "      <td>lower_ware</td>\n",
              "      <td>women_jeans_jeggings</td>\n",
              "      <td>image462.json</td>\n",
              "      <td>image462_1.jpg</td>\n",
              "      <td>https://www.myntra.com/jeans/united-colors-of-...</td>\n",
              "      <td>[0.00033629938843660057, 0.001100885565392673,...</td>\n",
              "    </tr>\n",
              "    <tr>\n",
              "      <th>15833</th>\n",
              "      <td>15833</td>\n",
              "      <td>lower_ware</td>\n",
              "      <td>women_jeans_jeggings</td>\n",
              "      <td>image512.json</td>\n",
              "      <td>image512_1.jpg</td>\n",
              "      <td>https://www.myntra.com/jeans/united-colors-of-...</td>\n",
              "      <td>[0.00033629938843660057, 0.001100885565392673,...</td>\n",
              "    </tr>\n",
              "    <tr>\n",
              "      <th>16518</th>\n",
              "      <td>16518</td>\n",
              "      <td>lower_ware</td>\n",
              "      <td>women_jeans_jeggings</td>\n",
              "      <td>image478.json</td>\n",
              "      <td>image478_1.jpg</td>\n",
              "      <td>https://www.myntra.com/jeans/levis/levis-women...</td>\n",
              "      <td>[0.0003462400636635721, 0.0012777912197634578,...</td>\n",
              "    </tr>\n",
              "    <tr>\n",
              "      <th>16571</th>\n",
              "      <td>16571</td>\n",
              "      <td>lower_ware</td>\n",
              "      <td>women_jeans_jeggings</td>\n",
              "      <td>image209.json</td>\n",
              "      <td>image209_1.jpg</td>\n",
              "      <td>https://www.myntra.com/jeans/levis/levis-women...</td>\n",
              "      <td>[0.0003346421290189028, 0.0015800799010321498,...</td>\n",
              "    </tr>\n",
              "  </tbody>\n",
              "</table>\n",
              "</div>"
            ],
            "text/plain": [
              "          id  ...                                 description_vector\n",
              "3559    3559  ...  [0.00034993584267795086, 0.0014610572252422571...\n",
              "7553    7553  ...  [0.0002554995589889586, 0.002343848580494523, ...\n",
              "10265  10265  ...  [0.0002554995589889586, 0.002343848580494523, ...\n",
              "10929  10929  ...  [0.00034993584267795086, 0.0014610572252422571...\n",
              "11870  11870  ...  [0.0002904768625739962, 0.0008964059525169432,...\n",
              "14533  14533  ...  [0.0003462400636635721, 0.0012777912197634578,...\n",
              "15226  15226  ...  [0.00033629938843660057, 0.001100885565392673,...\n",
              "15833  15833  ...  [0.00033629938843660057, 0.001100885565392673,...\n",
              "16518  16518  ...  [0.0003462400636635721, 0.0012777912197634578,...\n",
              "16571  16571  ...  [0.0003346421290189028, 0.0015800799010321498,...\n",
              "\n",
              "[10 rows x 7 columns]"
            ]
          },
          "metadata": {
            "tags": []
          },
          "execution_count": 49
        }
      ]
    },
    {
      "cell_type": "code",
      "metadata": {
        "id": "9_Zo3vLg6uXP"
      },
      "source": [
        "# saving the stored faiss into the file \n",
        "faiss.write_index(index,\"img_embedding_quantize.index\")"
      ],
      "execution_count": 55,
      "outputs": []
    },
    {
      "cell_type": "code",
      "metadata": {
        "colab": {
          "base_uri": "https://localhost:8080/"
        },
        "id": "Jm4X558_mx1g",
        "outputId": "20692a7d-4edf-4965-915e-332e17b1b563"
      },
      "source": [
        "from google.colab import drive\n",
        "drive.mount('drive')"
      ],
      "execution_count": 56,
      "outputs": [
        {
          "output_type": "stream",
          "text": [
            "Mounted at drive\n"
          ],
          "name": "stdout"
        }
      ]
    },
    {
      "cell_type": "code",
      "metadata": {
        "id": "it9b_ym8nSeY"
      },
      "source": [
        "! cp img_embedding_quantize.index 'drive/MyDrive/Applied AI/CS2/'"
      ],
      "execution_count": 58,
      "outputs": []
    },
    {
      "cell_type": "code",
      "metadata": {
        "id": "UT4mJSlEE6Vp"
      },
      "source": [
        "index = faiss.read_index(\"img_embedding.index\")  # load the index"
      ],
      "execution_count": 10,
      "outputs": []
    }
  ]
}